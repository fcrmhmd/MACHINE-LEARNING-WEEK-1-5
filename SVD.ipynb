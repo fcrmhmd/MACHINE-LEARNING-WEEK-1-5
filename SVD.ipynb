{
  "nbformat": 4,
  "nbformat_minor": 0,
  "metadata": {
    "colab": {
      "name": "SVD",
      "provenance": [],
      "authorship_tag": "ABX9TyOkLENORkMRCZGlOHWVLoNR",
      "include_colab_link": true
    },
    "kernelspec": {
      "name": "python3",
      "display_name": "Python 3"
    },
    "language_info": {
      "name": "python"
    }
  },
  "cells": [
    {
      "cell_type": "markdown",
      "metadata": {
        "id": "view-in-github",
        "colab_type": "text"
      },
      "source": [
        "<a href=\"https://colab.research.google.com/github/fcrmhmd/Machine-Learning/blob/main/SVD.ipynb\" target=\"_parent\"><img src=\"https://colab.research.google.com/assets/colab-badge.svg\" alt=\"Open In Colab\"/></a>"
      ]
    },
    {
      "cell_type": "code",
      "metadata": {
        "id": "q6-C7dAjFT5w"
      },
      "source": [
        "#import linier algebra, eigen value, eigen vector, normalized the vectors\n",
        "import numpy as np\n",
        "from numpy.linalg import eigh, norm"
      ],
      "execution_count": 20,
      "outputs": []
    },
    {
      "cell_type": "code",
      "metadata": {
        "id": "a_mdzThOFYKN"
      },
      "source": [
        "#matriks ukuran mxn\n",
        "A=np.array([[-5, 2, 3], [2, 5, 1], [-3, 1, -5]])"
      ],
      "execution_count": 21,
      "outputs": []
    },
    {
      "cell_type": "code",
      "metadata": {
        "colab": {
          "base_uri": "https://localhost:8080/"
        },
        "id": "EOoFnGA7FZkH",
        "outputId": "226cec18-5309-4551-9cce-bec5f44bdebb"
      },
      "source": [
        "A.T@A"
      ],
      "execution_count": 22,
      "outputs": [
        {
          "output_type": "execute_result",
          "data": {
            "text/plain": [
              "array([[38, -3,  2],\n",
              "       [-3, 30,  6],\n",
              "       [ 2,  6, 35]])"
            ]
          },
          "metadata": {},
          "execution_count": 22
        }
      ]
    },
    {
      "cell_type": "code",
      "metadata": {
        "colab": {
          "base_uri": "https://localhost:8080/"
        },
        "id": "Zzr2zQ5mFZpp",
        "outputId": "64ed2720-d495-4a71-b988-58cb6fe2746c"
      },
      "source": [
        "#eigen values & V\n",
        "eigh(A.T@A)"
      ],
      "execution_count": 23,
      "outputs": [
        {
          "output_type": "execute_result",
          "data": {
            "text/plain": [
              "(array([25., 39., 39.]), array([[ 0.26726124, -0.96362411,  0.        ],\n",
              "        [ 0.80178373,  0.22237479,  0.5547002 ],\n",
              "        [-0.53452248, -0.14824986,  0.83205029]]))"
            ]
          },
          "metadata": {},
          "execution_count": 23
        }
      ]
    },
    {
      "cell_type": "code",
      "metadata": {
        "id": "4T1jKqUHFZsG"
      },
      "source": [
        "ev, V =eigh(A.T@A)"
      ],
      "execution_count": 24,
      "outputs": []
    },
    {
      "cell_type": "code",
      "metadata": {
        "colab": {
          "base_uri": "https://localhost:8080/"
        },
        "id": "mdUXdF-gFZuV",
        "outputId": "f18e07c4-1bec-4900-ecdf-696de54e250e"
      },
      "source": [
        "V[0]"
      ],
      "execution_count": 25,
      "outputs": [
        {
          "output_type": "execute_result",
          "data": {
            "text/plain": [
              "array([ 0.26726124, -0.96362411,  0.        ])"
            ]
          },
          "metadata": {},
          "execution_count": 25
        }
      ]
    },
    {
      "cell_type": "code",
      "metadata": {
        "colab": {
          "base_uri": "https://localhost:8080/"
        },
        "id": "76A0RS3KFZwo",
        "outputId": "97f3cbac-b2e7-4cea-dfb5-d7b887f2a964"
      },
      "source": [
        "V[:,0]"
      ],
      "execution_count": 26,
      "outputs": [
        {
          "output_type": "execute_result",
          "data": {
            "text/plain": [
              "array([ 0.26726124,  0.80178373, -0.53452248])"
            ]
          },
          "metadata": {},
          "execution_count": 26
        }
      ]
    },
    {
      "cell_type": "code",
      "metadata": {
        "id": "vwKLLy1oFZy1"
      },
      "source": [
        "u0= A@V[:,0]/norm(A@V[:,0])\n",
        "u1= A@V[:,1]/norm(A@V[:,1])\n",
        "u2= A@V[:,2]/norm(A@V[:,2])"
      ],
      "execution_count": 27,
      "outputs": []
    },
    {
      "cell_type": "code",
      "metadata": {
        "id": "lvSo1ImpFZ0k"
      },
      "source": [
        "U=np.array([u0,u1,u2]).T"
      ],
      "execution_count": 28,
      "outputs": []
    },
    {
      "cell_type": "code",
      "metadata": {
        "colab": {
          "base_uri": "https://localhost:8080/"
        },
        "id": "Zze89keCFZ2b",
        "outputId": "43ab3b3c-87a4-49d7-cb54-eeeacd6cc66b"
      },
      "source": [
        "U.T@A@V"
      ],
      "execution_count": 29,
      "outputs": [
        {
          "output_type": "execute_result",
          "data": {
            "text/plain": [
              "array([[ 5.00000000e+00,  4.61927558e-17, -5.80878766e-17],\n",
              "       [-3.24483433e-16,  6.24499800e+00,  1.06687423e-16],\n",
              "       [-2.24630037e-16, -1.28454465e-17,  6.24499800e+00]])"
            ]
          },
          "metadata": {},
          "execution_count": 29
        }
      ]
    },
    {
      "cell_type": "code",
      "metadata": {
        "colab": {
          "base_uri": "https://localhost:8080/"
        },
        "id": "F7065zkiW5p6",
        "outputId": "fbc995d3-66bc-4805-8808-7b7116867426"
      },
      "source": [
        "#pembulatan\n",
        "np.round(U.T@A@V, decimals=5)"
      ],
      "execution_count": 30,
      "outputs": [
        {
          "output_type": "execute_result",
          "data": {
            "text/plain": [
              "array([[ 5.   ,  0.   , -0.   ],\n",
              "       [-0.   ,  6.245,  0.   ],\n",
              "       [-0.   , -0.   ,  6.245]])"
            ]
          },
          "metadata": {},
          "execution_count": 30
        }
      ]
    },
    {
      "cell_type": "code",
      "metadata": {
        "id": "JU8hEEGEW5sS"
      },
      "source": [
        "#A = U@D@V.T is the SVD"
      ],
      "execution_count": 31,
      "outputs": []
    }
  ]
}